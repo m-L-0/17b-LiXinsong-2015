{
 "cells": [
  {
   "cell_type": "code",
   "execution_count": 1,
   "metadata": {},
   "outputs": [],
   "source": [
    "import tensorflow as tf\n",
    "from tensorflow.examples.tutorials.mnist import input_data\n",
    "import numpy as np "
   ]
  },
  {
   "cell_type": "code",
   "execution_count": 2,
   "metadata": {},
   "outputs": [
    {
     "name": "stdout",
     "output_type": "stream",
     "text": [
      "Extracting ./data/fashion/train-images-idx3-ubyte.gz\n",
      "Extracting ./data/fashion/train-labels-idx1-ubyte.gz\n",
      "Extracting ./data/fashion/t10k-images-idx3-ubyte.gz\n",
      "Extracting ./data/fashion/t10k-labels-idx1-ubyte.gz\n"
     ]
    }
   ],
   "source": [
    "# 生成整型的属性\n",
    "def _int64_feature(value):\n",
    "    return tf.train.Feature(int64_list=tf.train.Int64List(value=[value]))\n",
    "\n",
    "\n",
    "# 生成字符串属性\n",
    "def _bytes_feature(value):\n",
    "    return tf.train.Feature(bytes_list=tf.train.BytesList(value=[value]))\n",
    "\n",
    "\n",
    "# 读取数据集\n",
    "mnist = input_data.read_data_sets('./data/fashion', dtype=tf.uint8, one_hot=True)"
   ]
  },
  {
   "cell_type": "code",
   "execution_count": 3,
   "metadata": {},
   "outputs": [],
   "source": [
    "# 将训练集存储成 train.tfrecords\n",
    "images = mnist.train.images\n",
    "# 训练集的正确答案\n",
    "labels = mnist.train.labels\n",
    "\n",
    "num_examples = mnist.train.num_examples\n",
    "\n",
    "\n",
    "with tf.python_io.TFRecordWriter('./data/train.tfrecords') as writer:\n",
    "    for i in range(num_examples):\n",
    "        # 将图片矩阵转化成一个字符串\n",
    "        image_raw = images[i].tostring()\n",
    "        example1 = tf.train.Example(features=tf.train.Features(feature={\n",
    "            'labels': _int64_feature(np.argmax(labels[i])),\n",
    "            'image_raw': _bytes_feature(image_raw)\n",
    "        }))\n",
    "\n",
    "        writer.write(example1.SerializeToString())"
   ]
  },
  {
   "cell_type": "code",
   "execution_count": 5,
   "metadata": {},
   "outputs": [],
   "source": [
    "# 将验证集存储成 validation.tfrecords\n",
    "v_images = mnist.validation.images\n",
    "# 验证集的正确答案\n",
    "v_labels = mnist.validation.labels\n",
    "\n",
    "v_num_examples = mnist.validation.num_examples\n",
    "\n",
    "with tf.python_io.TFRecordWriter('./data/validation.tfrecords') as writer:\n",
    "    for i in range(v_num_examples):\n",
    "        # 将图片矩阵转化成一个字符串\n",
    "        image_raw = v_images[i].tostring()\n",
    "        example2 = tf.train.Example(features=tf.train.Features(feature={\n",
    "            'labels': _int64_feature(np.argmax(v_labels[i])),\n",
    "            'image_raw': _bytes_feature(image_raw)\n",
    "        }))\n",
    "    writer.write(example2.SerializeToString())"
   ]
  },
  {
   "cell_type": "code",
   "execution_count": 6,
   "metadata": {},
   "outputs": [],
   "source": [
    "# 将测试集存储成 validation.tfrecords\n",
    "t_images = mnist.validation.images\n",
    "# 测试集的正确答案\n",
    "t_labels = mnist.validation.labels\n",
    "t_pixels = v_images.shape[1]\n",
    "t_num_examples = mnist.validation.num_examples\n",
    "\n",
    "with tf.python_io.TFRecordWriter('./data/test.tfrecords') as writer:\n",
    "    for i in range(t_num_examples):\n",
    "        # 将图片矩阵转化成一个字符串\n",
    "        image_raw = t_images[i].tostring()\n",
    "        example3 = tf.train.Example(features=tf.train.Features(feature={\n",
    "            'pixels': _int64_feature(t_pixels),\n",
    "            'labels': _int64_feature(np.argmax(t_labels[i])),\n",
    "            'image_raw': _bytes_feature(image_raw)\n",
    "        }))\n",
    "        writer.write(example3.SerializeToString())"
   ]
  },
  {
   "cell_type": "markdown",
   "metadata": {},
   "source": [
    "![这是图片哈](./images/cunchu.png)"
   ]
  },
  {
   "cell_type": "code",
   "execution_count": null,
   "metadata": {},
   "outputs": [],
   "source": []
  }
 ],
 "metadata": {
  "kernelspec": {
   "display_name": "Python 3",
   "language": "python",
   "name": "python3"
  },
  "language_info": {
   "codemirror_mode": {
    "name": "ipython",
    "version": 3
   },
   "file_extension": ".py",
   "mimetype": "text/x-python",
   "name": "python",
   "nbconvert_exporter": "python",
   "pygments_lexer": "ipython3",
   "version": "3.5.2"
  }
 },
 "nbformat": 4,
 "nbformat_minor": 2
}
