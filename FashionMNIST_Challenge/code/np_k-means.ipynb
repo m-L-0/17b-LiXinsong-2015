{
 "cells": [
  {
   "cell_type": "code",
   "execution_count": 1,
   "metadata": {},
   "outputs": [],
   "source": [
    "from numpy import *\n",
    "import matplotlib.pyplot as plt\n",
    "from tensorflow.examples.tutorials.mnist import input_data\n",
    "from sklearn.manifold import TSNE"
   ]
  },
  {
   "cell_type": "code",
   "execution_count": 2,
   "metadata": {},
   "outputs": [],
   "source": [
    "# 欧式距离\n",
    "def calDistance(x1, x2):\n",
    "    return linalg.norm(x1 - x2)"
   ]
  },
  {
   "cell_type": "code",
   "execution_count": 3,
   "metadata": {},
   "outputs": [],
   "source": [
    "# 生成随机聚类中心\n",
    "def initCentroids(dataSet, k):\n",
    "    n = shape(dataSet)[1]\n",
    "    clustercents = mat(zeros((k, n)))  # 初始化聚类中心矩阵：k * n\n",
    "    for col in range(n):\n",
    "        mincol = min(dataSet[:, col])\n",
    "        maxcol = max(dataSet[:, col])\n",
    "\n",
    "        # randoom.rand（k, 1）：产生一个0-1之间的随机数向量；K， 1表示产生k行1列的随机数\n",
    "        clustercents[:, col] = mat(mincol + float(maxcol - mincol) * random.rand(k, 1))\n",
    "    return clustercents"
   ]
  },
  {
   "cell_type": "code",
   "execution_count": 4,
   "metadata": {},
   "outputs": [],
   "source": [
    "def KMeans(dataSet, k):\n",
    "    m = shape(dataSet)[0]\n",
    "    # 与数据集等长，共两列，第一列：数据集对应的聚类中心k；第二列：数据集到聚类中心的距离\n",
    "    ClustDist = mat(zeros((m, 2)))\n",
    "\n",
    "    clustercents = initCentroids(dataSet, k)\n",
    "    # 标志位\n",
    "    flag = True\n",
    "    while flag:\n",
    "        flag = False\n",
    "        for i in range(m):\n",
    "            distlist = [calDistance(clustercents[j, :], dataSet[i, :]) for j in range(k)]\n",
    "            minDist = min(distlist)\n",
    "            minIndex = distlist.index(minDist)\n",
    "\n",
    "            if ClustDist[i, 0] != minIndex:\n",
    "                flag = True\n",
    "            ClustDist[i, :] = minIndex, minDist\n",
    "\n",
    "        for cent in range(k):\n",
    "            ptsInClust = dataSet[nonzero(ClustDist[:, 0].A == cent)[0]]\n",
    "            clustercents[cent, :] = mean(ptsInClust, axis=0)\n",
    "\n",
    "    return clustercents, ClustDist"
   ]
  },
  {
   "cell_type": "code",
   "execution_count": 5,
   "metadata": {},
   "outputs": [],
   "source": [
    "def show(dataSet, k, clustercents, ClustDist):\n",
    "    numSamples, _ = shape(dataSet)\n",
    "    mark = ['or', 'ob', 'og', 'ok', '^r', '+r', 'sr', 'dr', '<r', 'pr']\n",
    "    for i in range(numSamples):\n",
    "        markIndex = int(ClustDist[i, 0])\n",
    "        plt.plot(dataSet[i, 0], dataSet[i, 1], mark[markIndex])\n",
    "    mark = ['Dr', 'Db', 'Dg', 'Dk', '^b', '+b', 'sb', 'db', '<b', 'pb']\n",
    "    for i in range(k):\n",
    "        plt.plot(clustercents[i, 0], clustercents[i, 1], mark[i], markersize=12)\n",
    "    plt.show()"
   ]
  },
  {
   "cell_type": "code",
   "execution_count": 6,
   "metadata": {},
   "outputs": [
    {
     "name": "stdout",
     "output_type": "stream",
     "text": [
      "Extracting ./data/fashion/train-images-idx3-ubyte.gz\n",
      "Extracting ./data/fashion/train-labels-idx1-ubyte.gz\n",
      "Extracting ./data/fashion/t10k-images-idx3-ubyte.gz\n",
      "Extracting ./data/fashion/t10k-labels-idx1-ubyte.gz\n"
     ]
    },
    {
     "name": "stderr",
     "output_type": "stream",
     "text": [
      "/home/lixinsong/.virtualenvs/tensflow_env/lib/python3.5/site-packages/numpy/core/fromnumeric.py:2909: RuntimeWarning: Mean of empty slice.\n",
      "  out=out, **kwargs)\n",
      "/home/lixinsong/.virtualenvs/tensflow_env/lib/python3.5/site-packages/numpy/core/_methods.py:73: RuntimeWarning: invalid value encountered in true_divide\n",
      "  ret, rcount, out=ret, casting='unsafe', subok=False)\n"
     ]
    },
    {
     "name": "stdout",
     "output_type": "stream",
     "text": [
      "[[ -1.29075956  -1.2766099 ]\n",
      " [  4.8211441   -7.63081551]\n",
      " [         nan          nan]\n",
      " [ -2.98474908  -8.04167175]\n",
      " [ -7.5382061    9.80176926]\n",
      " [ 12.02682304  -1.86831355]\n",
      " [ -6.34873152   2.60921502]\n",
      " [         nan          nan]\n",
      " [  6.51447248   0.28332227]\n",
      " [ -2.89417028  10.50780678]]\n"
     ]
    },
    {
     "data": {
      "image/png": "[encoded data removed]",
      "text/plain": [
       "<matplotlib.figure.Figure at 0x7fe75d25cfd0>"
      ]
     },
     "metadata": {},
     "output_type": "display_data"
    }
   ],
   "source": [
    "def main():\n",
    "    mnist = input_data.read_data_sets('./data/fashion', one_hot=True)\n",
    "    train_images = mnist.train.images\n",
    "    # print(train_images)\n",
    "    dataMat = TSNE().fit_transform(train_images[:200])\n",
    "    \n",
    "    myCentroids, ClustDist = KMeans(dataMat, 10)\n",
    "    print(myCentroids)\n",
    "    show(dataMat, 10, myCentroids, ClustDist)\n",
    "\n",
    "\n",
    "if __name__ == '__main__':\n",
    "    main()"
   ]
  },
  {
   "cell_type": "markdown",
   "metadata": {
    "collapsed": true
   },
   "source": []
  },
  {
   "cell_type": "markdown",
   "metadata": {},
   "source": []
  }
 ],
 "metadata": {
  "kernelspec": {
   "display_name": "Python 3",
   "language": "python",
   "name": "python3"
  },
  "language_info": {
   "codemirror_mode": {
    "name": "ipython",
    "version": 3
   },
   "file_extension": ".py",
   "mimetype": "text/x-python",
   "name": "python",
   "nbconvert_exporter": "python",
   "pygments_lexer": "ipython3",
   "version": "3.5.2"
  }
 },
 "nbformat": 4,
 "nbformat_minor": 2
}
