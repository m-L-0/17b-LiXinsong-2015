<<<<<<< HEAD
{
 "cells": [
  {
   "cell_type": "code",
   "execution_count": 2,
   "metadata": {},
   "outputs": [
    {
     "name": "stdout",
     "output_type": "stream",
     "text": [
      "Extracting ./data/fashion/train-images-idx3-ubyte.gz\n",
      "Extracting ./data/fashion/train-labels-idx1-ubyte.gz\n",
      "Extracting ./data/fashion/t10k-images-idx3-ubyte.gz\n",
      "Extracting ./data/fashion/t10k-labels-idx1-ubyte.gz\n"
     ]
    }
   ],
   "source": [
    "import numpy as np\n",
    "import tensorflow as tf\n",
    "\n",
    "# 加载mnist数据集\n",
    "from tensorflow.examples.tutorials.mnist import input_data\n",
    "\n",
    "mnist = input_data.read_data_sets(\"./data/fashion\", one_hot=True)"
   ]
  },
  {
   "cell_type": "code",
   "execution_count": 6,
   "metadata": {},
   "outputs": [],
   "source": [
    "# 这里从数据集中抽取55000个样本数据作为训练集，100个样本做为测试集\n",
    "images_train, labels_train = mnist.train.next_batch(55000)\n",
    "images_test, labels_test = mnist.test.next_batch(100)\n",
    "# print(np.shape(images_train))   # (55000, 784)\n",
    "# print(np.shape(labels_train))   # (55000, 10)\n",
    "# print(np.shape(images_test))      # (10000, 784)\n",
    "# print(np.shape(labels_test))      # (100000, 10)labels_train\n",
    "\n",
    "train_x = tf.placeholder(tf.float64, [None, 784])\n",
    "test_x = tf.placeholder(tf.float64, [784])\n",
    "\n",
    "# 使用欧式距离计算最近邻labels_train\n",
    "# tf.negative()给test_x中的每个元素取反\n",
    "distance = tf.sqrt(tf.reduce_sum(tf.abs(tf.add(train_x, tf.negative(test_x))), reduction_indices=1, ))\n",
    "# 这里reduction_indices=1是计算每一行的和从distance tensor中寻找最小的距离索引\n",
    "min = tf.argmin(distance, 0)\n",
    "\n",
    "correctrate = 0.\n"
   ]
  },
  {
   "cell_type": "code",
   "execution_count": 7,
   "metadata": {},
   "outputs": [
    {
     "name": "stdout",
     "output_type": "stream",
     "text": [
      "测试次数 0 预测值: 5 正确类别: 5\n",
      "测试次数 1 预测值: 5 正确类别: 5\n",
      "测试次数 2 预测值: 5 正确类别: 5\n",
      "测试次数 3 预测值: 4 正确类别: 6\n",
      "测试次数 4 预测值: 3 正确类别: 3\n",
      "测试次数 5 预测值: 0 正确类别: 0\n",
      "测试次数 6 预测值: 4 正确类别: 2\n",
      "测试次数 7 预测值: 0 正确类别: 0\n",
      "测试次数 8 预测值: 5 正确类别: 5\n",
      "测试次数 9 预测值: 6 正确类别: 0\n",
      "测试次数 10 预测值: 3 正确类别: 3\n",
      "测试次数 11 预测值: 8 正确类别: 8\n",
      "测试次数 12 预测值: 6 正确类别: 4\n",
      "测试次数 13 预测值: 8 正确类别: 8\n",
      "测试次数 14 预测值: 3 正确类别: 3\n",
      "测试次数 15 预测值: 7 正确类别: 7\n",
      "测试次数 16 预测值: 1 正确类别: 1\n",
      "测试次数 17 预测值: 6 正确类别: 0\n",
      "测试次数 18 预测值: 8 正确类别: 8\n",
      "测试次数 19 预测值: 5 正确类别: 5\n",
      "测试次数 20 预测值: 4 正确类别: 4\n",
      "测试次数 21 预测值: 3 正确类别: 3\n",
      "测试次数 22 预测值: 0 正确类别: 0\n",
      "测试次数 23 预测值: 0 正确类别: 0\n",
      "测试次数 24 预测值: 1 正确类别: 1\n",
      "测试次数 25 预测值: 3 正确类别: 3\n",
      "测试次数 26 预测值: 1 正确类别: 1\n",
      "测试次数 27 预测值: 1 正确类别: 1\n",
      "测试次数 28 预测值: 5 正确类别: 5\n",
      "测试次数 29 预测值: 1 正确类别: 1\n",
      "测试次数 30 预测值: 5 正确类别: 5\n",
      "测试次数 31 预测值: 2 正确类别: 2\n",
      "测试次数 32 预测值: 7 正确类别: 7\n",
      "测试次数 33 预测值: 8 正确类别: 8\n",
      "测试次数 34 预测值: 2 正确类别: 2\n",
      "测试次数 35 预测值: 5 正确类别: 5\n",
      "测试次数 36 预测值: 5 正确类别: 5\n",
      "测试次数 37 预测值: 7 正确类别: 7\n",
      "测试次数 38 预测值: 7 正确类别: 7\n",
      "测试次数 39 预测值: 2 正确类别: 2\n",
      "测试次数 40 预测值: 1 正确类别: 1\n",
      "测试次数 41 预测值: 0 正确类别: 6\n",
      "测试次数 42 预测值: 0 正确类别: 0\n",
      "测试次数 43 预测值: 2 正确类别: 6\n",
      "测试次数 44 预测值: 9 正确类别: 9\n",
      "测试次数 45 预测值: 1 正确类别: 1\n",
      "测试次数 46 预测值: 1 正确类别: 1\n",
      "测试次数 47 预测值: 5 正确类别: 5\n",
      "测试次数 48 预测值: 0 正确类别: 0\n",
      "测试次数 49 预测值: 8 正确类别: 8\n",
      "测试次数 50 预测值: 8 正确类别: 8\n",
      "测试次数 51 预测值: 8 正确类别: 8\n",
      "测试次数 52 预测值: 3 正确类别: 3\n",
      "测试次数 53 预测值: 7 正确类别: 7\n",
      "测试次数 54 预测值: 7 正确类别: 7\n",
      "测试次数 55 预测值: 6 正确类别: 4\n",
      "测试次数 56 预测值: 9 正确类别: 9\n",
      "测试次数 57 预测值: 1 正确类别: 1\n",
      "测试次数 58 预测值: 8 正确类别: 8\n",
      "测试次数 59 预测值: 2 正确类别: 2\n",
      "测试次数 60 预测值: 6 正确类别: 6\n",
      "测试次数 61 预测值: 8 正确类别: 8\n",
      "测试次数 62 预测值: 2 正确类别: 2\n",
      "测试次数 63 预测值: 7 正确类别: 7\n",
      "测试次数 64 预测值: 0 正确类别: 0\n",
      "测试次数 65 预测值: 8 正确类别: 8\n",
      "测试次数 66 预测值: 7 正确类别: 7\n",
      "测试次数 67 预测值: 0 正确类别: 0\n",
      "测试次数 68 预测值: 4 正确类别: 4\n",
      "测试次数 69 预测值: 6 正确类别: 2\n",
      "测试次数 70 预测值: 0 正确类别: 0\n",
      "测试次数 71 预测值: 1 正确类别: 1\n",
      "测试次数 72 预测值: 2 正确类别: 6\n",
      "测试次数 73 预测值: 0 正确类别: 6\n",
      "测试次数 74 预测值: 3 正确类别: 3\n",
      "测试次数 75 预测值: 0 正确类别: 0\n",
      "测试次数 76 预测值: 6 正确类别: 6\n",
      "测试次数 77 预测值: 3 正确类别: 3\n",
      "测试次数 78 预测值: 5 正确类别: 5\n",
      "测试次数 79 预测值: 2 正确类别: 4\n",
      "测试次数 80 预测值: 9 正确类别: 5\n",
      "测试次数 81 预测值: 1 正确类别: 1\n",
      "测试次数 82 预测值: 6 正确类别: 6\n",
      "测试次数 83 预测值: 3 正确类别: 3\n",
      "测试次数 84 预测值: 4 正确类别: 6\n",
      "测试次数 85 预测值: 0 正确类别: 0\n",
      "测试次数 86 预测值: 5 正确类别: 5\n",
      "测试次数 87 预测值: 1 正确类别: 1\n",
      "测试次数 88 预测值: 1 正确类别: 1\n",
      "测试次数 89 预测值: 1 正确类别: 1\n",
      "测试次数 90 预测值: 8 正确类别: 8\n",
      "测试次数 91 预测值: 8 正确类别: 8\n",
      "测试次数 92 预测值: 1 正确类别: 1\n",
      "测试次数 93 预测值: 6 正确类别: 6\n",
      "测试次数 94 预测值: 2 正确类别: 2\n",
      "测试次数 95 预测值: 2 正确类别: 2\n",
      "测试次数 96 预测值: 5 正确类别: 5\n",
      "测试次数 97 预测值: 4 正确类别: 4\n",
      "测试次数 98 预测值: 7 正确类别: 7\n",
      "测试次数 99 预测值: 7 正确类别: 7\n",
      "正确率: 0.8600000000000005\n"
     ]
    }
   ],
   "source": [
    "with tf.Session() as sess:\n",
    "    sess.run(tf.global_variables_initializer())\n",
    "\n",
    "    # 对每个测试样本，计算它的分类类别\n",
    "    for i in range(len(images_test)):\n",
    "        # 获得最近邻\n",
    "        m = sess.run(min, feed_dict={train_x: images_train, test_x: images_test[i]})\n",
    "\n",
    "        # 获得测试样本的最近邻类别，并将它与真实类别做比较\n",
    "        print(\"测试次数\", i, \"预测值:\", np.argmax(labels_train[m]), \"正确类别:\", np.argmax(labels_test[i]))\n",
    "        # 计算 correctrate\n",
    "        if np.argmax(labels_train[m]) == np.argmax(labels_test[i]):\n",
    "            correctrate += 1. / len(labels_test)\n",
    "    print(\"正确率:\", correctrate)"
   ]
  },
  {
   "cell_type": "code",
   "execution_count": null,
   "metadata": {},
   "outputs": [],
   "source": []
  }
 ],
 "metadata": {
  "kernelspec": {
   "display_name": "Python 3",
   "language": "python",
   "name": "python3"
  },
  "language_info": {
   "codemirror_mode": {
    "name": "ipython",
    "version": 3
   },
   "file_extension": ".py",
   "mimetype": "text/x-python",
   "name": "python",
   "nbconvert_exporter": "python",
   "pygments_lexer": "ipython3",
   "version": "3.5.2"
  }
 },
 "nbformat": 4,
 "nbformat_minor": 2
}
=======

>>>>>>> c8601ce87c5fa9376c6bc8bf0e9ae284dc431223
