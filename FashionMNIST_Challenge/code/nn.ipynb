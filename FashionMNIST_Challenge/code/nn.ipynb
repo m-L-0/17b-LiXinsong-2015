{
 "cells": [
  {
   "cell_type": "code",
   "execution_count": 1,
   "metadata": {},
   "outputs": [],
   "source": [
    "import tensorflow as tf\n",
    "from tensorflow.examples.tutorials.mnist import input_data"
   ]
  },
  {
   "cell_type": "code",
   "execution_count": 2,
   "metadata": {},
   "outputs": [
    {
     "name": "stdout",
     "output_type": "stream",
     "text": [
      "Extracting ./data/fashion/train-images-idx3-ubyte.gz\n",
      "Extracting ./data/fashion/train-labels-idx1-ubyte.gz\n",
      "Extracting ./data/fashion/t10k-images-idx3-ubyte.gz\n",
      "Extracting ./data/fashion/t10k-labels-idx1-ubyte.gz\n"
     ]
    }
   ],
   "source": [
    "mnist = input_data.read_data_sets('./data/fashion', one_hot=True)"
   ]
  },
  {
   "cell_type": "code",
   "execution_count": 3,
   "metadata": {},
   "outputs": [],
   "source": [
    "# 定义回归模型\n",
    "x = tf.placeholder(tf.float32, [None, 784])\n",
    "w = tf.Variable(tf.zeros([784, 10]))\n",
    "b = tf.Variable(tf.Variable(tf.zeros([10])))\n",
    "\n",
    "# 假设函数\n",
    "y = tf.matmul(x, w) + b\n",
    "\n",
    "# 学习率\n",
    "a = 0.5\n",
    "\n",
    "# 用 tf.nn.softmax_cross_entropy_with_logits 来计算预测值 y 和 y_ 的差值，取均值\n",
    "y_ = tf.placeholder(tf.float32, [None, 10])  # 真实值\n",
    "\n",
    "# 代价函数\n",
    "cross_entropy = tf.reduce_mean(tf.nn.softmax_cross_entropy_with_logits(logits=y, labels=y_))\n",
    "\n",
    "# 梯度下降法\n",
    "train_step = tf.train.GradientDescentOptimizer(a).minimize(cross_entropy)"
   ]
  },
  {
   "cell_type": "code",
   "execution_count": 7,
   "metadata": {},
   "outputs": [
    {
     "name": "stdout",
     "output_type": "stream",
     "text": [
      "训练次数： 0 正确率 0.2979\n",
      "训练次数： 100 正确率 0.727\n",
      "训练次数： 200 正确率 0.7858\n",
      "训练次数： 300 正确率 0.7756\n",
      "训练次数： 400 正确率 0.799\n",
      "训练次数： 500 正确率 0.7993\n",
      "训练次数： 600 正确率 0.8015\n",
      "训练次数： 700 正确率 0.7704\n",
      "训练次数： 800 正确率 0.8138\n",
      "训练次数： 900 正确率 0.7958\n",
      "训练次数： 1000 正确率 0.7928\n"
     ]
    }
   ],
   "source": [
    "with tf.Session() as sess:\n",
    "    writer = tf.summary.FileWriter('./graphs', sess.graph)\n",
    "    sess.run(tf.global_variables_initializer())\n",
    "\n",
    "    for i in range(1001):\n",
    "        train_x, label_x = mnist.train.next_batch(55000)\n",
    "        sess.run(train_step, feed_dict={x: train_x, y_: label_x})\n",
    "\n",
    "        # 计算预测值和真实值\n",
    "        correct_predictiion = tf.equal(tf.argmax(y, 1), tf.argmax(y_, 1))\n",
    "\n",
    "        # 布尔型转化为浮点数， 并取平均值，得到准确率\n",
    "        accuracy = tf.reduce_mean(tf.cast(correct_predictiion, tf.float32))\n",
    "\n",
    "        # 计算在测试集的准确率\n",
    "        if i % 100 == 0:\n",
    "            print('训练次数：', i, end=' ')\n",
    "            print('正确率', sess.run(accuracy, feed_dict={x: mnist.test.images, y_: mnist.test.labels}))\n",
    "\n",
    "writer.close()"
   ]
  },
  {
   "cell_type": "markdown",
   "metadata": {},
   "source": [
    "![](./images/nn.png)"
   ]
  },
  {
   "cell_type": "code",
   "execution_count": null,
   "metadata": {},
   "outputs": [],
   "source": []
  }
 ],
 "metadata": {
  "kernelspec": {
   "display_name": "Python 3",
   "language": "python",
   "name": "python3"
  },
  "language_info": {
   "codemirror_mode": {
    "name": "ipython",
    "version": 3
   },
   "file_extension": ".py",
   "mimetype": "text/x-python",
   "name": "python",
   "nbconvert_exporter": "python",
   "pygments_lexer": "ipython3",
   "version": "3.5.2"
  }
 },
 "nbformat": 4,
 "nbformat_minor": 2
}
