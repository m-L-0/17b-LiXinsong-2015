{
 "cells": [
  {
   "cell_type": "code",
   "execution_count": 1,
   "metadata": {
    "collapsed": true
   },
   "outputs": [],
   "source": [
    "import tensorflow as tf\n",
    "import numpy as np\n",
    "from PIL import Image\n",
    "import os"
   ]
  },
  {
   "cell_type": "code",
   "execution_count": 2,
   "metadata": {
    "collapsed": true
   },
   "outputs": [],
   "source": [
    "# 生成整型的属性\n",
    "def _int64_feature(value):\n",
    "    return tf.train.Feature(int64_list=tf.train.Int64List(value=[value]))\n",
    "\n",
    "\n",
    "# 生成字符串属性\n",
    "def _bytes_feature(value):\n",
    "    return tf.train.Feature(bytes_list=tf.train.BytesList(value=[value]))\n",
    "\n"
   ]
  },
  {
   "cell_type": "code",
   "execution_count": 3,
   "metadata": {
    "collapsed": true
   },
   "outputs": [],
   "source": [
    "# 存储数字 + 字母，训练集(不包括每个类别的后100个)\n",
    "def save_to_train_tfrecord(path, name, rows=24, cols=48):\n",
    "    writer = tf.python_io.TFRecordWriter(name)\n",
    "    classes = os.listdir(path)\n",
    "    classes.sort()\n",
    "    # print(classes)\n",
    "    for i, _i in enumerate(classes):\n",
    "        # length = 0\n",
    "        img_list_path = path + '/' + _i\n",
    "        # print(img_list_path)\n",
    "        a = os.listdir(img_list_path)\n",
    "        for j in os.listdir(img_list_path)[:-100]:\n",
    "            img_path = img_list_path + '/' + j\n",
    "            # length += len(img_path)\n",
    "\n",
    "            img = Image.open(img_path).convert('L')\n",
    "            img = np.array(img.resize((rows, cols)))\n",
    "            img_raw = img.tostring()\n",
    "            example = tf.train.Example(features=tf.train.Features(feature={\n",
    "\n",
    "                'image_raw': _bytes_feature(img_raw),\n",
    "                'label': _int64_feature(i)}))\n",
    "            writer.write(example.SerializeToString())\n",
    "\n",
    "    writer.close()\n",
    "    # return length"
   ]
  },
  {
   "cell_type": "code",
   "execution_count": 4,
   "metadata": {
    "collapsed": true
   },
   "outputs": [],
   "source": [
    "# 存储数字 + 字母，验证集(每个类别的后100个)\n",
    "def save_to_validate_tfrecord(path, name, rows=24, cols=48):\n",
    "    writer = tf.python_io.TFRecordWriter(name)\n",
    "    classes = os.listdir(path)\n",
    "    classes.sort()\n",
    "    # print(classes)\n",
    "    for i, _i in enumerate(classes):\n",
    "        # length = 0\n",
    "        img_list_path = path + '/' + _i\n",
    "        # print(img_list_path)\n",
    "        for j in os.listdir(img_list_path)[-100:]:\n",
    "            img_path = img_list_path + '/' + j\n",
    "            # length += len(img_path)\n",
    "            img = Image.open(img_path).convert('L')\n",
    "            img = np.array(img.resize((rows, cols)))\n",
    "            img_raw = img.tostring()\n",
    "            example = tf.train.Example(features=tf.train.Features(feature={\n",
    "\n",
    "                'image_raw': _bytes_feature(img_raw),\n",
    "                'label': _int64_feature(i)}))\n",
    "            writer.write(example.SerializeToString())\n",
    "\n",
    "    writer.close()\n",
    "    # return length\n"
   ]
  },
  {
   "cell_type": "code",
   "execution_count": 5,
   "metadata": {
    "collapsed": true
   },
   "outputs": [],
   "source": [
    "class DataSet:\n",
    "    def __init__(self, path):\n",
    "        self.path = path\n",
    "\n",
    "    def generate_filenamequeue(self):\n",
    "        filename_queue = tf.train.string_input_producer([self.path])\n",
    "        return filename_queue\n",
    "\n",
    "    def read_from_tfrecord(self):\n",
    "        reader = tf.TFRecordReader()\n",
    "        _, example = reader.read(self.generate_filenamequeue())\n",
    "        features = tf.parse_single_example(\n",
    "            example,\n",
    "            features={\n",
    "                'image_raw': tf.FixedLenFeature([], tf.string),\n",
    "                'label': tf.FixedLenFeature([], tf.int64),\n",
    "            })\n",
    "\n",
    "        images = tf.decode_raw(features['image_raw'], tf.uint8)\n",
    "        images = tf.reshape(images, [1152])\n",
    "        labels = tf.cast(features['label'], tf.int64)\n",
    "        return images/255, labels\n",
    "\n",
    "    def get_batch(self, batch_size):\n",
    "        with tf.name_scope('get_batch'):\n",
    "            image, label = self.read_from_tfrecord()\n",
    "            images, labels = tf.train.shuffle_batch([image, label], batch_size=batch_size, num_threads=2,\n",
    "                                                    capacity=1000 + 3 * batch_size, min_after_dequeue=100)\n",
    "\n",
    "            with tf.Session() as sess:\n",
    "                sess.run(tf.global_variables_initializer())\n",
    "                coord = tf.train.Coordinator()\n",
    "                thread = tf.train.start_queue_runners(coord=coord)\n",
    "                img = sess.run(images)\n",
    "                _lab = sess.run(labels)\n",
    "\n",
    "                coord.request_stop()\n",
    "                coord.join(thread)\n",
    "                l = np.zeros([batch_size, 34], dtype=int)\n",
    "                for i in range(batch_size):\n",
    "                    l[i][_lab[i]] = 1\n",
    "        return img, l"
   ]
  },
  {
   "cell_type": "code",
   "execution_count": 6,
   "metadata": {
    "collapsed": true
   },
   "outputs": [],
   "source": [
    "save_to_train_tfrecord('./data', 'train_num_letter.tfrecords')\n",
    "save_to_validate_tfrecord('./data', 'validate_num_letter.tfrecords')"
   ]
  },
  {
   "cell_type": "code",
   "execution_count": null,
   "metadata": {
    "collapsed": true
   },
   "outputs": [],
   "source": []
  }
 ],
 "metadata": {
  "kernelspec": {
   "display_name": "Python 3",
   "language": "python",
   "name": "python3"
  },
  "language_info": {
   "codemirror_mode": {
    "name": "ipython",
    "version": 3
   },
   "file_extension": ".py",
   "mimetype": "text/x-python",
   "name": "python",
   "nbconvert_exporter": "python",
   "pygments_lexer": "ipython3",
   "version": "3.6.2"
  }
 },
 "nbformat": 4,
 "nbformat_minor": 2
}
