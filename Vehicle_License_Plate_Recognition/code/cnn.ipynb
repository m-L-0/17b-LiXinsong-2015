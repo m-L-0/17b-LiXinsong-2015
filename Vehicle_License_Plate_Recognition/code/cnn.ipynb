{
 "cells": [
  {
   "cell_type": "code",
   "execution_count": 1,
   "metadata": {
    "collapsed": true
   },
   "outputs": [],
   "source": [
    "from dataset import *\n",
    "from tensorflow.python.framework import graph_util\n",
    "\n",
    "\n",
    "train_data = DataSet('num_letter.tfrecords')\n",
    "validate_data = DataSet('num_letter.tfrecords')\n",
    "# train_img, train_label = data.get_batch(500)\n",
    "val_img, val_label = validate_data.get_batch(500)\n"
   ]
  },
  {
   "cell_type": "code",
   "execution_count": 2,
   "metadata": {
    "collapsed": true
   },
   "outputs": [],
   "source": [
    "def init_weights(shape):\n",
    "    return tf.Variable(tf.random_normal(shape, stddev=0.1))\n",
    "\n",
    "\n",
    "def init_bias(shape):\n",
    "    return tf.Variable(tf.constant(0.1, shape=shape))\n"
   ]
  },
  {
   "cell_type": "code",
   "execution_count": 3,
   "metadata": {
    "collapsed": true
   },
   "outputs": [],
   "source": [
    "with tf.Graph().as_default() as g:\n",
    "    x_ = tf.placeholder(tf.float32, [None, 1152], name='image')\n",
    "    y = tf.placeholder(tf.float32, [None, 34], 'label')\n",
    "    keep_prob = tf.placeholder(tf.float32, name='keep_prob')\n",
    "    x = tf.reshape(x_, [-1, 48, 24, 1], name='x')\n",
    "\n",
    "    # 第一层卷积\n",
    "    w1 = init_weights([3, 3, 1, 32])\n",
    "    b1 = init_bias([32])\n",
    "    conv1 = tf.nn.relu(tf.nn.conv2d(x, w1,  strides=[1, 1, 1, 1], padding='SAME') + b1)  # shape=(?, 48, 24, 32)\n",
    "    # 池化\n",
    "    pool1 = tf.nn.max_pool(conv1, ksize=[1, 2, 2, 1], strides=[1, 2, 2, 1], padding='SAME')  # # shape=(?, 24, 12, 32)\n",
    "\n",
    "\n",
    "    # 第二层卷积\n",
    "    w2 = init_weights([3, 3, 32, 64])\n",
    "    b2 = init_bias([64])\n",
    "    conv2 = tf.nn.relu(tf.nn.conv2d(pool1, w2,  strides=[1, 1, 1, 1], padding='SAME') + b2)  # shape=(?, 24, 12, 64)\n",
    "    # 池化\n",
    "    pool2 = tf.nn.max_pool(conv2, ksize=[1, 2, 2, 1], strides=[1, 2, 2, 1], padding='SAME')  # shape=(?, 12, 6, 64)\n",
    "\n",
    "\n",
    "    # 第三层卷积\n",
    "    w3 = init_weights([3, 3, 64, 96])\n",
    "    b3 = init_bias([96])\n",
    "    conv3 = tf.nn.relu(tf.nn.conv2d(pool2, w3,  strides=[1, 1, 1, 1], padding='SAME') + b3)  # shape=(?, 12, 6, 96)\n",
    "    # 池化\n",
    "    pool3_ = tf.nn.max_pool(conv3, ksize=[1, 2, 2, 1], strides=[1, 2, 2, 1], padding='SAME')  # shape=(?, 6, 3, 96)\n",
    "\n",
    "\n",
    "    pool3 = tf.reshape(pool3_, [-1, 6*3*96])\n",
    "\n",
    "    # 全连接层\n",
    "    w4 = init_weights([6 * 3 * 96, 512])\n",
    "    b4 = init_bias([512])\n",
    "    h = tf.nn.relu(tf.matmul(pool3, w4) + b4)\n",
    "\n",
    "    h = tf.nn.dropout(h, keep_prob)\n",
    "\n",
    "    # 输出层\n",
    "    w_o = init_weights([512, 34])\n",
    "    b_o = init_bias([34])\n",
    "    #y_o = tf.nn.softmax(tf.matmul(h, w_o) + b_o)\n",
    "    y_o = tf.matmul(h, w_o) + b_o\n",
    "\n",
    "\n",
    "    cost = tf.reduce_mean(tf.nn.softmax_cross_entropy_with_logits(logits=y_o, labels=y))\n",
    "    #cost = -tf.reduce_sum(y*tf.log(y_o))\n",
    "    train_op = tf.train.AdamOptimizer().minimize(cost)\n",
    "    prediction = tf.equal(tf.argmax(y_o, 1), tf.argmax(y, 1))\n",
    "    accuracy = tf.reduce_mean(tf.cast(prediction, tf.float32), name='accuracy')\n"
   ]
  },
  {
   "cell_type": "code",
   "execution_count": 4,
   "metadata": {},
   "outputs": [
    {
     "name": "stdout",
     "output_type": "stream",
     "text": [
      "step 0, accuracy: 0, loss : 11.2864\n",
      "step 1, accuracy: 0.894, loss : 0.771091\n",
      "step 2, accuracy: 0.896, loss : 1.62691\n",
      "step 3, accuracy: 0.9, loss : 1.58644\n",
      "step 4, accuracy: 0.892, loss : 1.41257\n",
      "step 5, accuracy: 0.898, loss : 0.942975\n",
      "step 6, accuracy: 0.898, loss : 0.506835\n",
      "step 7, accuracy: 0.902, loss : 0.338646\n",
      "step 8, accuracy: 0.904, loss : 0.321884\n",
      "step 9, accuracy: 0.894, loss : 0.469784\n",
      "0.898\n",
      "0.898\n",
      "0.898\n",
      "0.898\n",
      "0.898\n",
      "0.898\n",
      "0.898\n",
      "0.898\n",
      "0.898\n",
      "0.898\n",
      "INFO:tensorflow:Froze 10 variables.\n",
      "Converted 10 variables to const ops.\n"
     ]
    }
   ],
   "source": [
    "with tf.Session(graph=g) as sess:\n",
    "\n",
    "    sess.run(tf.global_variables_initializer())\n",
    "\n",
    "    coord = tf.train.Coordinator()\n",
    "    threads = tf.train.start_queue_runners(sess=sess, coord=coord)\n",
    "\n",
    "    for i in range(10):\n",
    "        train_accuracy, loss = sess.run(\n",
    "            [accuracy, cost],\n",
    "            feed_dict={x_: train_data.get_batch(500)[0], y: train_data.get_batch(500)[1], keep_prob: 1.0})\n",
    "        print(\"step %d, accuracy: %g, loss : %g\" % (i, train_accuracy, loss))\n",
    "        train_op.run(feed_dict={x_: train_data.get_batch(500)[0], y: train_data.get_batch(500)[1], keep_prob: 0.5})\n",
    "\n",
    "    for i in range(10):\n",
    "\n",
    "        print(sess.run(accuracy, feed_dict={x_: val_img, y: val_label, keep_prob: 1.0}))\n",
    "\n",
    "    coord.request_stop()\n",
    "    coord.join(threads)\n",
    "\n",
    "    new_graph = graph_util.convert_variables_to_constants(\n",
    "            sess,\n",
    "            sess.graph_def,\n",
    "            output_node_names=['accuracy'])\n",
    "    tf.train.write_graph(new_graph, '', 'graph.pb', as_text=False)\n"
   ]
  },
  {
   "cell_type": "code",
   "execution_count": null,
   "metadata": {
    "collapsed": true
   },
   "outputs": [],
   "source": []
  }
 ],
 "metadata": {
  "kernelspec": {
   "display_name": "Python 3",
   "language": "python",
   "name": "python3"
  },
  "language_info": {
   "codemirror_mode": {
    "name": "ipython",
    "version": 3
   },
   "file_extension": ".py",
   "mimetype": "text/x-python",
   "name": "python",
   "nbconvert_exporter": "python",
   "pygments_lexer": "ipython3",
   "version": "3.6.2"
  }
 },
 "nbformat": 4,
 "nbformat_minor": 2
}
